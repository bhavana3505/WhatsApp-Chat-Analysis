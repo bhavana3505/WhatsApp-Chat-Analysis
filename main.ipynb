{
 "cells": [
  {
   "cell_type": "code",
   "execution_count": null,
   "id": "dd06e1a5-3826-44ac-b5fa-97c2c739a7c8",
   "metadata": {},
   "outputs": [],
   "source": [
    "f=open(\"WhatsApp Chat with 🥰Beauty squad 👯crazy devils👻.txt\",\"r\",encoding=\"utf-8\")"
   ]
  },
  {
   "cell_type": "code",
   "execution_count": null,
   "id": "3b499610-99f8-47de-920e-889957edc825",
   "metadata": {},
   "outputs": [],
   "source": [
    "data=f.read()"
   ]
  },
  {
   "cell_type": "code",
   "execution_count": null,
   "id": "25462c13-3d69-4c28-9dad-9e9f7cec3aed",
   "metadata": {},
   "outputs": [],
   "source": [
    "f.close()"
   ]
  },
  {
   "cell_type": "code",
   "execution_count": null,
   "id": "a3ea9448-5937-44a9-af3d-11c373cbb8d1",
   "metadata": {
    "scrolled": true
   },
   "outputs": [],
   "source": [
    "print(data)"
   ]
  },
  {
   "cell_type": "code",
   "execution_count": null,
   "id": "75a67b21-0b96-44fa-8788-0ded20683953",
   "metadata": {
    "scrolled": true
   },
   "outputs": [],
   "source": [
    "import re\n",
    "\n",
    "def extract_chat_data(data):\n",
    "    # Regular expression for matching datetime, username, and message\n",
    "    regex = r'(\\d{2}/\\d{2}/\\d{4}, \\d{1,2}:\\d{2}\\s?[apm]+) -\\s*(.*?)(?::\\s*(.*))?$'\n",
    "\n",
    "    # Lists to store extracted data\n",
    "    datetimes = []\n",
    "    usernames = []\n",
    "    messages = []\n",
    "\n",
    "    # Iterate through each line of the data\n",
    "    for line in data.split('\\n'):\n",
    "        match = re.match(regex, line.strip())\n",
    "        if match:\n",
    "            # Extract datetime\n",
    "            datetime = match.group(1)\n",
    "\n",
    "            # If there's a username and message (with \":\")\n",
    "            if match.group(3):\n",
    "                username = match.group(2)\n",
    "                message = match.group(3)\n",
    "            else:\n",
    "                # If there's no username (message contains no \":\")\n",
    "                username = \"Group Notification\"\n",
    "                message = match.group(2)\n",
    "\n",
    "            # Append extracted data to respective lists\n",
    "            datetimes.append(datetime)\n",
    "            usernames.append(username)\n",
    "            messages.append(message)\n",
    "\n",
    "    # Return the results as a tuple\n",
    "    return datetimes, usernames, messages\n",
    "\n",
    "\n",
    "\n",
    "# Pass the data to the function\n",
    "datetimes, usernames, messages = extract_chat_data(data)\n",
    "\n",
    "for i in range(len(datetimes)):\n",
    "    print(datetimes[i],\"  \",usernames[i],\"  \",messages[i])"
   ]
  },
  {
   "cell_type": "code",
   "execution_count": null,
   "id": "9a3f260b-7588-42c7-9477-23d8794b23cb",
   "metadata": {},
   "outputs": [],
   "source": [
    "import pandas as pd\n",
    "df=pd.DataFrame(data={\"date\":datetimes,\"user_name\":usernames,\"msg\":messages})"
   ]
  },
  {
   "cell_type": "code",
   "execution_count": null,
   "id": "5cc0079c-d9d4-4ba0-9065-08a867703d76",
   "metadata": {},
   "outputs": [],
   "source": [
    "df.head()"
   ]
  },
  {
   "cell_type": "code",
   "execution_count": null,
   "id": "16050efa-9a7f-4248-9416-5d39ec8418f7",
   "metadata": {
    "scrolled": true
   },
   "outputs": [],
   "source": [
    "from datetime import datetime\n",
    "\n",
    "def convert_to_24hr_format(date_str):\n",
    "    # Ensure the input is a string\n",
    "    if not isinstance(date_str, str):\n",
    "        date_str = str(date_str)  # Convert non-string types to string if necessary\n",
    "\n",
    "    # Clean the string by removing non-breaking spaces and stripping extra spaces\n",
    "    date_str = date_str.replace('\\u202f', ' ').strip()\n",
    "\n",
    "    print(f\"Parsing date: {date_str}\")  # Debug print to inspect the date\n",
    "\n",
    "    try:\n",
    "        # Parse the date from 12-hour format to datetime object\n",
    "        date_obj = datetime.strptime(date_str, \"%d/%m/%Y, %I:%M %p\")\n",
    "\n",
    "        # Convert to 24-hour format\n",
    "        return date_obj.strftime(\"%d/%m/%Y, %H:%M\")\n",
    "    except ValueError as e:\n",
    "        print(f\"Error parsing date: {date_str} - {e}\")\n",
    "        return None  # Return None or another default value\n",
    "\n",
    "# Apply the conversion to the 'date' column\n",
    "df['date'] = df['date'].apply(convert_to_24hr_format)\n",
    "\n",
    "# Return the updated DataFrame\n",
    "\n"
   ]
  },
  {
   "cell_type": "code",
   "execution_count": null,
   "id": "57260775-4bb3-4425-8f85-89fc0fa09fef",
   "metadata": {},
   "outputs": [],
   "source": [
    "df.head()"
   ]
  },
  {
   "cell_type": "code",
   "execution_count": null,
   "id": "705281f5-895b-4224-97fb-c0037de6b32f",
   "metadata": {},
   "outputs": [],
   "source": [
    "from datetime import datetime\n"
   ]
  },
  {
   "cell_type": "code",
   "execution_count": null,
   "id": "0345f347-eff3-4bab-919c-412f2b34254d",
   "metadata": {},
   "outputs": [],
   "source": [
    "def convert_to_24hr_format(date_str):\n",
    "    # Clean the string by removing non-breaking spaces and stripping extra spaces\n",
    "    date_str = date_str.replace('\\u202f', ' ').strip()\n",
    "\n",
    "    # Parse the date from 12-hour format to datetime object\n",
    "    date_obj = datetime.strptime(date_str, \"%d/%m/%Y, %I:%M %p\")\n",
    "    \n",
    "    # Convert to 24-hour format\n",
    "    return date_obj.strftime(\"%d/%m/%Y, %H:%M\")\n",
    "\n",
    "# Apply the conversion to the 'date' column\n",
    "df['date'] = df['date'].apply(convert_to_24hr_format)"
   ]
  },
  {
   "cell_type": "code",
   "execution_count": null,
   "id": "7f69e0ea-914b-4ef6-a8df-fc81bb39d6ef",
   "metadata": {},
   "outputs": [],
   "source": [
    "df.head()"
   ]
  },
  {
   "cell_type": "code",
   "execution_count": null,
   "id": "c0cc0501-3333-4a6e-a5da-92d24e4a7959",
   "metadata": {},
   "outputs": [],
   "source": [
    "df.info()"
   ]
  },
  {
   "cell_type": "code",
   "execution_count": null,
   "id": "db9448de-67d4-4fc0-8667-302b36b5c4c8",
   "metadata": {},
   "outputs": [],
   "source": [
    "df['date'] = df['date'].replace('\\u202f', ' ', regex=True).str.strip()\n",
    "\n",
    "# Function to handle the date conversion with both 12-hour and 24-hour formats\n",
    "def convert_to_datetime(date_str):\n",
    "    # Try 12-hour format first\n",
    "    try:\n",
    "        date_obj = datetime.strptime(date_str, \"%d/%m/%Y, %I:%M %p\")\n",
    "    except ValueError:\n",
    "        # If 12-hour format fails, try 24-hour format\n",
    "        date_obj = datetime.strptime(date_str, \"%d/%m/%Y, %H:%M\")\n",
    "    return date_obj\n",
    "\n",
    "# Convert 'date' column to datetime format with both formats handled\n",
    "df['date'] = df['date'].apply(convert_to_datetime)\n",
    "\n",
    "# Extract Year, Month, Day, Hour, and Minute from the 'date' column\n",
    "df['year'] = df['date'].dt.year\n",
    "df['month'] = df['date'].dt.month_name()\n",
    "df['day'] = df['date'].dt.day\n",
    "df['hour'] = df['date'].dt.hour\n",
    "df['minute'] = df['date'].dt.minute\n",
    "\n",
    "# Output the updated dataframe\n"
   ]
  },
  {
   "cell_type": "code",
   "execution_count": null,
   "id": "081341bd-784e-4de4-bc9b-57890603304e",
   "metadata": {},
   "outputs": [],
   "source": [
    "df.head()"
   ]
  },
  {
   "cell_type": "code",
   "execution_count": null,
   "id": "7dd3563a-afbe-47ff-af67-5a8fd9ae6aa3",
   "metadata": {},
   "outputs": [],
   "source": [
    "df.info()"
   ]
  },
  {
   "cell_type": "code",
   "execution_count": null,
   "id": "93d8b6d8-a32f-457e-97d5-6f59bf4e4e78",
   "metadata": {},
   "outputs": [],
   "source": [
    "df.shape"
   ]
  },
  {
   "cell_type": "code",
   "execution_count": null,
   "id": "44bcd15d-3ecc-4060-9570-ffa35566a14d",
   "metadata": {},
   "outputs": [],
   "source": [
    "df['user_name'].unique()"
   ]
  },
  {
   "cell_type": "code",
   "execution_count": null,
   "id": "eb1fdca2-1b0f-46fb-8d92-4051681681b1",
   "metadata": {},
   "outputs": [],
   "source": [
    "df['date'].min(),df['date'].max()"
   ]
  },
  {
   "cell_type": "code",
   "execution_count": null,
   "id": "51e93217-9602-47c0-943b-f9517ef0a496",
   "metadata": {},
   "outputs": [],
   "source": [
    "df['date'].max()-df['date'].min()"
   ]
  },
  {
   "cell_type": "code",
   "execution_count": null,
   "id": "10267f62-c239-4ebc-8900-0ad44848057c",
   "metadata": {},
   "outputs": [],
   "source": []
  },
  {
   "cell_type": "code",
   "execution_count": null,
   "id": "264b9bc5-dab5-4ced-a9a9-7d1068ad9f85",
   "metadata": {},
   "outputs": [],
   "source": [
    "df.isnull().sum()"
   ]
  },
  {
   "cell_type": "code",
   "execution_count": null,
   "id": "cf5a79a1-16c9-4439-991c-abed6a282300",
   "metadata": {},
   "outputs": [],
   "source": [
    "df[df['msg']=='<Media omitted>']"
   ]
  },
  {
   "cell_type": "code",
   "execution_count": null,
   "id": "3376dc74-1f1c-4050-9aea-8e6e1f2f8762",
   "metadata": {},
   "outputs": [],
   "source": [
    "\n",
    "#Creating the DataFrame\n",
    "\n",
    "\n",
    "# Get the start and end dates (in this case, the min and max of the 'date' column)\n",
    "start_date = df['date'].min()\n",
    "end_date = df['date'].max()\n",
    "\n",
    "# Print start and end date\n",
    "print(f\"Start Date: {start_date}\")\n",
    "print(f\"End Date: {end_date}\")\n",
    "\n",
    "# Generate a date range from the start to the end date\n",
    "active_days = pd.date_range(start=start_date, end=end_date).date\n",
    "active_days\n"
   ]
  },
  {
   "cell_type": "code",
   "execution_count": null,
   "id": "4ed94ac4-20ea-4ecc-8bdc-381de733d950",
   "metadata": {},
   "outputs": [],
   "source": [
    "# Output the active days\n",
    "print(\"\\nActive Days between start and end date:\")\n",
    "print(active_days)\n",
    "\n",
    "# Get the count of active days\n",
    "num_active_days = len(active_days)\n",
    "print(f\"\\nNumber of Active Days: {num_active_days}\")"
   ]
  },
  {
   "cell_type": "code",
   "execution_count": null,
   "id": "c41d3bb1-b7eb-4798-a71f-09d49f9f4195",
   "metadata": {},
   "outputs": [],
   "source": [
    "from dateutil.relativedelta import relativedelta\n",
    "# Get the start and end dates (in this case, the min and max of the 'date' column)\n",
    "start_date = df['date'].min()\n",
    "end_date = df['date'].max()\n",
    "\n",
    "# Calculate the difference between the start and end dates using relativedelta\n",
    "difference = relativedelta(end_date, start_date)\n",
    "\n",
    "# Extract the difference in years, months, and days\n",
    "years = difference.years\n",
    "months = difference.months\n",
    "days = difference.days\n",
    "\n",
    "# Format the result as \"X years, Y months, Z days\"\n",
    "result = f\"{years} years, {months} months, {days} days\"\n",
    "\n",
    "# Output the result\n",
    "print(f\"Time difference between {start_date} and {end_date}: {result}\")\n"
   ]
  },
  {
   "cell_type": "code",
   "execution_count": null,
   "id": "66809f4e-df0c-4850-a43a-8aa309d61efe",
   "metadata": {},
   "outputs": [],
   "source": [
    "X=df['user_name'].value_counts()\n"
   ]
  },
  {
   "cell_type": "code",
   "execution_count": null,
   "id": "7dafd384-60fc-4eb8-a9bd-98186ee21f3a",
   "metadata": {},
   "outputs": [],
   "source": [
    "import matplotlib.pyplot as plt\n",
    "plt.bar(X.index,X.values)\n",
    "plt.xticks(rotation=90)\n",
    "plt.show()"
   ]
  },
  {
   "cell_type": "code",
   "execution_count": null,
   "id": "7e79458a-e122-441d-9df7-79107b03387d",
   "metadata": {},
   "outputs": [],
   "source": [
    "round(df['user_name'].value_counts()/df.shape[0]*100,2).reset_index().rename(columns={\"user_name\":\"name\",\"count\":\"percent\"})"
   ]
  },
  {
   "cell_type": "code",
   "execution_count": null,
   "id": "0609efd8-08ed-4903-9e99-bae41caa808c",
   "metadata": {},
   "outputs": [],
   "source": [
    "temp=df[df['user_name']!=\"Group Notification\"]\n",
    "temp=temp[temp['msg']!=\"<Media omitted>\"]"
   ]
  },
  {
   "cell_type": "code",
   "execution_count": null,
   "id": "965c66fd-3d54-4c96-896f-bd9346ad25ff",
   "metadata": {
    "scrolled": true
   },
   "outputs": [],
   "source": [
    "import string\n",
    "from collections import Counter\n",
    "from nltk.corpus import stopwords\n",
    "\n",
    "# Define stopwords\n",
    "stop_words = stopwords.words('english')\n",
    "\n",
    "# Define punctuation marks\n",
    "punctuation = string.punctuation\n",
    "\n",
    "words = []\n",
    "for msg in temp['msg']:  # Assuming `temp['msg']` contains the messages\n",
    "    for word in msg.lower().split():\n",
    "        # Remove punctuation marks and check if the word is not a stop word\n",
    "        word = word.strip(punctuation)\n",
    "        if word and word not in stop_words:\n",
    "            words.append(word)\n",
    "\n",
    "# Get the 20 most common words\n",
    "pd.DataFrame(Counter(words).most_common(20))\n"
   ]
  },
  {
   "cell_type": "code",
   "execution_count": null,
   "id": "0adb35ff-4b1d-4df0-a4a3-c92984071fe9",
   "metadata": {
    "scrolled": true
   },
   "outputs": [],
   "source": [
    "pip install emoji"
   ]
  },
  {
   "cell_type": "code",
   "execution_count": null,
   "id": "92cbba5a-9eed-47ef-8675-0a641010b56c",
   "metadata": {},
   "outputs": [],
   "source": [
    "import re\n",
    "from collections import Counter\n",
    "import emoji\n",
    "\n",
    "# Function to remove emojis in the range \\U0001FAE0 to \\U0001FAFF\n",
    "def extract_emojis(msg):\n",
    "    # Find all emojis and exclude emojis in the specified Unicode ranges\n",
    "    exclude_range = re.compile(r'[\\U0001FAE0-\\U0001FAFF,\\U0001f979]')\n",
    "    \n",
    "    return [c for c in msg if c in emoji.EMOJI_DATA and not exclude_range.search(c)]\n",
    "\n",
    "# Example usage\n",
    "emojis = []\n",
    "for msg in df['msg']:  # Assuming `df['msg']` contains the messages\n",
    "    emojis.extend(extract_emojis(msg))\n",
    "\n",
    "# Counting the emojis\n",
    "pd.DataFrame(Counter(emojis).most_common(len(Counter(emojis))))\n"
   ]
  },
  {
   "cell_type": "code",
   "execution_count": null,
   "id": "6908348c-b7fa-4895-81aa-09061ac3d323",
   "metadata": {},
   "outputs": [],
   "source": [
    "df.head()"
   ]
  },
  {
   "cell_type": "code",
   "execution_count": null,
   "id": "77a649d7-f636-448c-ac32-d6426f851cac",
   "metadata": {},
   "outputs": [],
   "source": [
    "df['month_num']=df['date'].dt.month"
   ]
  },
  {
   "cell_type": "code",
   "execution_count": null,
   "id": "b6ec9614-5846-4812-ae17-7a771031d5d0",
   "metadata": {
    "scrolled": true
   },
   "outputs": [],
   "source": [
    "time_line=df.groupby(['year','month_num',\"month\"]).count()['msg'].reset_index()"
   ]
  },
  {
   "cell_type": "code",
   "execution_count": null,
   "id": "d2cd6e5c-dd34-401f-8d6a-b82485bfded8",
   "metadata": {},
   "outputs": [],
   "source": [
    "time_line.head()"
   ]
  },
  {
   "cell_type": "code",
   "execution_count": null,
   "id": "96575eea-cfb9-4dce-9e6e-13954560e58c",
   "metadata": {},
   "outputs": [],
   "source": [
    "time=[]\n",
    "for i in range(time_line.shape[0]):\n",
    "    time.append(time_line['month'][i]+\"-\"+str(time_line['year'][i]))"
   ]
  },
  {
   "cell_type": "code",
   "execution_count": null,
   "id": "b624f13b-da83-439d-bfe1-c997c6a3e6a0",
   "metadata": {
    "scrolled": true
   },
   "outputs": [],
   "source": [
    "time_line[\"time\"]=time"
   ]
  },
  {
   "cell_type": "code",
   "execution_count": null,
   "id": "cb9d4bca-fafd-4c6a-b1d7-7bd068723a04",
   "metadata": {
    "scrolled": true
   },
   "outputs": [],
   "source": [
    "time_line.head()"
   ]
  },
  {
   "cell_type": "code",
   "execution_count": null,
   "id": "813e6aca-b961-4a6d-a6f0-f643ec965c40",
   "metadata": {},
   "outputs": [],
   "source": [
    "import matplotlib.pyplot as plt\n",
    "plt.plot(time_line[\"time\"],time_line[\"msg\"])\n",
    "plt.xticks(rotation=90)\n",
    "plt.show()"
   ]
  },
  {
   "cell_type": "code",
   "execution_count": null,
   "id": "954e07e1-50bb-4887-8881-79bfbbe704bc",
   "metadata": {},
   "outputs": [],
   "source": [
    "time_line=df.groupby(['date']).count()['msg'].reset_index()"
   ]
  },
  {
   "cell_type": "code",
   "execution_count": null,
   "id": "d89c4df7-9d67-4210-ade6-0824b3cf583c",
   "metadata": {},
   "outputs": [],
   "source": [
    "df['date'].dt.date"
   ]
  },
  {
   "cell_type": "code",
   "execution_count": null,
   "id": "cd911fe9-984c-45b2-be8d-10c79823aa6a",
   "metadata": {},
   "outputs": [],
   "source": [
    "df['onlydate']=df['date'].dt.date"
   ]
  },
  {
   "cell_type": "code",
   "execution_count": null,
   "id": "eebcfc5f-c676-42a0-bcfb-87f307819af6",
   "metadata": {},
   "outputs": [],
   "source": [
    "time_line=df.groupby(['onlydate']).count()['msg'].reset_index()"
   ]
  },
  {
   "cell_type": "code",
   "execution_count": null,
   "id": "2f306831-e2e3-4c0e-822a-1c9766614822",
   "metadata": {},
   "outputs": [],
   "source": [
    "time_line"
   ]
  },
  {
   "cell_type": "code",
   "execution_count": null,
   "id": "a913fd06-5ab6-48a3-99c8-4f02f3c4dfc5",
   "metadata": {
    "scrolled": true
   },
   "outputs": [],
   "source": [
    "import matplotlib.pyplot as plt\n",
    "plt.figure(figsize=(18,10))\n",
    "plt.plot(time_line[\"onlydate\"],time_line[\"msg\"])\n",
    "plt.xticks(rotation=90)\n",
    "plt.show()"
   ]
  },
  {
   "cell_type": "code",
   "execution_count": null,
   "id": "d73a4ed8-cd1e-4774-979b-cfd96a5120ec",
   "metadata": {},
   "outputs": [],
   "source": [
    "df['day_name']=df[\"date\"].dt.day_name()"
   ]
  },
  {
   "cell_type": "code",
   "execution_count": null,
   "id": "8658cc36-feb3-4f73-96bb-6377d578ac3e",
   "metadata": {},
   "outputs": [],
   "source": [
    "df['day_name'].value_counts().reset_index()"
   ]
  },
  {
   "cell_type": "code",
   "execution_count": null,
   "id": "921e5e9d-9fd0-4f82-815f-38d01b47cde3",
   "metadata": {
    "scrolled": true
   },
   "outputs": [],
   "source": [
    "df['month'].value_counts().reset_index()"
   ]
  },
  {
   "cell_type": "code",
   "execution_count": null,
   "id": "9346d4e5-fda3-46b9-bbaf-7bcba3d9b220",
   "metadata": {},
   "outputs": [],
   "source": [
    "import seaborn as sns"
   ]
  },
  {
   "cell_type": "code",
   "execution_count": null,
   "id": "e35b5758-930f-4e9b-8115-6c4a6559b048",
   "metadata": {},
   "outputs": [],
   "source": [
    "period=[]\n",
    "\n",
    "for hour in df[['day_name','hour']]['hour']:\n",
    "    if hour==23:\n",
    "        period.append(str(hour)+\"-\"+str('00'))\n",
    "    elif hour==0:\n",
    "        period.append(str('00')+\"-\"+str(hour+1))\n",
    "    else:\n",
    "        period.append(str(hour)+\"-\"+str(hour+1))"
   ]
  },
  {
   "cell_type": "code",
   "execution_count": null,
   "id": "6ee1ff62-3b90-4381-8132-e3622a1efb1f",
   "metadata": {},
   "outputs": [],
   "source": [
    "df['period']=period"
   ]
  },
  {
   "cell_type": "code",
   "execution_count": null,
   "id": "9265a313-1ad6-4d67-991d-402e8d432364",
   "metadata": {},
   "outputs": [],
   "source": [
    "df.head()"
   ]
  },
  {
   "cell_type": "code",
   "execution_count": null,
   "id": "6c7376c8-a76e-4790-94f4-ec8aa63d3077",
   "metadata": {},
   "outputs": [],
   "source": [
    "df['period'].value_counts()"
   ]
  },
  {
   "cell_type": "code",
   "execution_count": null,
   "id": "abf0a7d5-bc54-4c7f-b4a7-440fd9f45c66",
   "metadata": {},
   "outputs": [],
   "source": [
    "plt.figure(figsize=(20, 6))\n",
    "\n",
    "# Pivot the DataFrame and create the heatmap\n",
    "pivot_data = df.pivot_table(index='day_name', columns='period', values='msg', aggfunc='count').fillna(0)\n",
    "\n",
    "# Create heatmap\n",
    "sns.heatmap(pivot_data, annot=True, fmt='g')\n",
    "\n",
    "# Rotate y-axis labels\n",
    "plt.yticks(rotation='horizontal')\n",
    "\n",
    "# Show the plot\n",
    "plt.show()"
   ]
  },
  {
   "cell_type": "code",
   "execution_count": null,
   "id": "898b8023-71b3-460e-98fb-8ea6e59dd6cf",
   "metadata": {
    "scrolled": true
   },
   "outputs": [],
   "source": [
    "pip install textblob"
   ]
  },
  {
   "cell_type": "code",
   "execution_count": null,
   "id": "aa14d958-d0d0-415d-b27d-66e0a63b7159",
   "metadata": {},
   "outputs": [],
   "source": [
    "from textblob import TextBlob\n",
    "\n",
    "def sentiment_analysis(df):\n",
    "    df['sentiment'] = df['msg'].apply(lambda x: TextBlob(x).sentiment.polarity)\n",
    "    return df.groupby('day_name')['sentiment'].mean()\n",
    "\n",
    "# Then you can display this sentiment trend in a plot.\n"
   ]
  },
  {
   "cell_type": "code",
   "execution_count": null,
   "id": "307a4dd0-fcbe-4da9-84c7-42c2e9a33c7f",
   "metadata": {
    "scrolled": true
   },
   "outputs": [],
   "source": [
    "sentiment_analysis(df)"
   ]
  },
  {
   "cell_type": "code",
   "execution_count": null,
   "id": "d842c6bf-06fe-4d86-b112-873dd2cf92b3",
   "metadata": {
    "scrolled": true
   },
   "outputs": [],
   "source": [
    "sentiment_by_day = {\n",
    "    'Friday': 0.037214,\n",
    "    'Monday': 0.049467,\n",
    "    'Saturday': 0.046121,\n",
    "    'Sunday': 0.071938,\n",
    "    'Thursday': 0.043819,\n",
    "    'Tuesday': 0.041524,\n",
    "    'Wednesday': 0.049445\n",
    "}\n",
    "\n",
    "\n",
    "sentiment_by_day = {k: sentiment_by_day[k] for k in ['Monday', 'Tuesday', 'Wednesday', 'Thursday', 'Friday', 'Saturday', 'Sunday']}\n",
    "\n",
    "# Plotting\n",
    "fig, ax = plt.subplots(figsize=(8, 6))\n",
    "ax.bar(sentiment_by_day.keys(), sentiment_by_day.values(), color='skyblue')\n",
    "\n",
    "ax.set_xlabel('Day of the Week', fontsize=12)\n",
    "ax.set_ylabel('Average Sentiment', fontsize=12)\n",
    "ax.set_title('Sentiment Analysis by Day of the Week', fontsize=14)\n",
    "plt.xticks(rotation=45)\n",
    "plt.tight_layout()\n",
    "\n",
    "plt.show()"
   ]
  },
  {
   "cell_type": "code",
   "execution_count": null,
   "id": "7f0817e6-28c4-40a8-ac1a-91a946d38b00",
   "metadata": {},
   "outputs": [],
   "source": []
  },
  {
   "cell_type": "code",
   "execution_count": null,
   "id": "2027b8bd-14d8-43d7-a90f-a3b8137a1049",
   "metadata": {},
   "outputs": [],
   "source": [
    "time_of_day_activity(df)"
   ]
  },
  {
   "cell_type": "code",
   "execution_count": null,
   "id": "ece8344b-e6ea-4832-8e09-d712315eef68",
   "metadata": {},
   "outputs": [],
   "source": [
    "def most_active_hour(df):\n",
    "    df['hour'] = df['date'].dt.hour\n",
    "    return df.groupby('hour').size()\n",
    "\n",
    "# Display the result in a bar chart\n"
   ]
  },
  {
   "cell_type": "code",
   "execution_count": null,
   "id": "530a01e0-2f7a-4eb6-9cd1-9b32fbbd2fc3",
   "metadata": {},
   "outputs": [],
   "source": [
    "start_date = st.sidebar.date_input(\"Start Date\")\n",
    "end_date = st.sidebar.date_input(\"End Date\")\n",
    "filtered_df = df[(df['date'] >= start_date) & (df['date'] <= end_date)]\n",
    "\n",
    "# Use this filtered DataFrame in your existing analyses.\n"
   ]
  },
  {
   "cell_type": "code",
   "execution_count": null,
   "id": "d31a83f3-74ce-4bdd-b0c6-61ef18185399",
   "metadata": {},
   "outputs": [],
   "source": []
  }
 ],
 "metadata": {
  "kernelspec": {
   "display_name": "Python 3 (ipykernel)",
   "language": "python",
   "name": "python3"
  },
  "language_info": {
   "codemirror_mode": {
    "name": "ipython",
    "version": 3
   },
   "file_extension": ".py",
   "mimetype": "text/x-python",
   "name": "python",
   "nbconvert_exporter": "python",
   "pygments_lexer": "ipython3",
   "version": "3.10.12"
  }
 },
 "nbformat": 4,
 "nbformat_minor": 5
}
